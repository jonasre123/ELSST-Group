{
 "cells": [
  {
   "attachments": {},
   "cell_type": "markdown",
   "metadata": {},
   "source": [
    "# General approach\n",
    "- Make all terms lowercase\n",
    "- Identify German nouns with a list and convert these to upper case\n"
   ]
  },
  {
   "attachments": {},
   "cell_type": "markdown",
   "metadata": {},
   "source": [
    "## Step 1: Read Excel and convert everything in the 'object' column to  lower case\n"
   ]
  },
  {
   "cell_type": "code",
   "execution_count": 1,
   "metadata": {},
   "outputs": [
    {
     "name": "stdout",
     "output_type": "stream",
     "text": [
      "241\n"
     ]
    }
   ],
   "source": [
    "import pandas as pd\n",
    "\n",
    "df = pd.read_excel('ELSST_R3_DE.xlsx')\n",
    "print(len(df.index))\n",
    "\n",
    "count = range(1,len(df.index))\n",
    "\n",
    "for i in count:\n",
    "    old = df['object'][i]\n",
    "    new = old.lower()\n",
    "    df = df.replace(old,new)\n",
    "\n",
    "df.to_excel('forELSSTGroup\\\\GER_ELSST_lowercase.xlsx', sheet_name='Sheet 1')\n"
   ]
  },
  {
   "attachments": {},
   "cell_type": "markdown",
   "metadata": {},
   "source": [
    "## Step 2 - Compile a list of nouns and verbs\n",
    "I used the csv-list offered here: https://pypi.org/project/german-nouns/. It was compiled from WiktionaryDE. The list had a number of issues and I have done a lot of trimming to it to improve it based on the results I received. Among the issues were very short nouns, names of cities, etc. The outcome of this is a text file with each noun (including different forms) on an individual line. \n",
    "I ended up compiling a list of verbs too ensure that verbs weren't capizalized, but the results are sketchy. \n",
    " "
   ]
  },
  {
   "attachments": {},
   "cell_type": "markdown",
   "metadata": {},
   "source": [
    "## Step 3 - Capitalize all single or first words in a field\n"
   ]
  },
  {
   "cell_type": "code",
   "execution_count": 2,
   "metadata": {},
   "outputs": [],
   "source": [
    "import openpyxl\n",
    "\n",
    "wb = openpyxl.load_workbook(\"forELSSTGroup\\\\GER_ELSST_lowercase.xlsx\")\n",
    "ws = wb[\"Sheet 1\"]\n",
    "\n",
    "for r in range(1,ws.max_row+1):\n",
    "    label = ws.cell(r,3).value\n",
    "    terms = ws.cell(r,4).value\n",
    "    ws.cell(r,4).value = ws.cell(r,4).value.replace(terms[0], terms[0].capitalize(),1)\n",
    "\n",
    "wb.save(\"forELSSTGroup\\\\GER_ELSST_firstword.xlsx\")\n",
    "\n"
   ]
  },
  {
   "attachments": {},
   "cell_type": "markdown",
   "metadata": {},
   "source": [
    "## Step 4 - Capitalize all words in the list of nouns and NOT in the list of verbs\n"
   ]
  },
  {
   "cell_type": "code",
   "execution_count": 3,
   "metadata": {},
   "outputs": [],
   "source": [
    "import openpyxl\n",
    "import re\n",
    "\n",
    "with open('wortliste/neue_nomenliste.txt', 'r', encoding=\"utf8\") as f:\n",
    "    nomen = [line.strip() for line in f]\n",
    "\n",
    "with open('wortliste/neue_verben.txt', 'r', encoding=\"utf8\") as f:\n",
    "    verben = [line.strip() for line in f]    # to do replace ö,ü,ä,\n",
    "\n",
    "wb = openpyxl.load_workbook(\"forELSSTGroup\\\\GER_ELSST_firstword.xlsx\")\n",
    "ws = wb[\"Sheet 1\"]\n",
    "\n",
    "for wort in nomen:\n",
    "    for r in range(1,ws.max_row+1):            \n",
    "        terms = ws.cell(r,4).value\n",
    "        label = ws.cell(r,3).value\n",
    "        for i in terms.split(' '):\n",
    "            try: \n",
    "                item = re.search(r\"\\b[a-zäöüÄÖÜß]+\\b\",i).group()\n",
    "            except AttributeError:\n",
    "                continue\n",
    "            if item == wort.lower() and item not in verben:\n",
    "                ws.cell(r,4).value = re.sub(r\"\\b\"+item, item.capitalize(),ws.cell(r,4).value)\n",
    "                #print(f\"replaced {item}\")\n",
    "wb.save('forELSSTGroup\\\\GER_ELSST_targetfile1.xlsx')"
   ]
  },
  {
   "attachments": {},
   "cell_type": "markdown",
   "metadata": {},
   "source": [
    "## Step 5 - Capitalize all words which end in typical noun suffixes (heit, keit, etc.)"
   ]
  },
  {
   "cell_type": "code",
   "execution_count": 6,
   "metadata": {},
   "outputs": [],
   "source": [
    "import openpyxl\n",
    "import re\n",
    "\n",
    "wb = openpyxl.load_workbook(\"forELSSTGroup\\\\GER_ELSST_targetfile1.xlsx\")\n",
    "ws = wb[\"Sheet 1\"]\n",
    "\n",
    "heit = [\"ing\",\"heit\",\"heiten\", \"keit\",\"keiten\", \"ung\", \"ungen\" ,\"nis\", \"nisse\",\"nissen\", \"schaft\", \"schaften\", \"tum\",\"tümer\"]\n",
    "\n",
    "for endung in heit:\n",
    "    endungen = endung + r\"\\b\"\n",
    "    for r in range(1,ws.max_row+1):\n",
    "    #for r in range(1,50):\n",
    "        terms = ws.cell(r,4).value\n",
    "        for item in terms.split(' '):\n",
    "            if not re.search('\\\\W',item):\n",
    "                if item != item.capitalize():\n",
    "                    #print(item)\n",
    "                    match = re.search(endungen, item)\n",
    "                    if match:\n",
    "                        #print(item)\n",
    "                        ws.cell(r,4).value = re.sub(item, item.capitalize(),ws.cell(r,4).value)\n",
    "                        #print(ws.cell(r,4).value)\n",
    "wb.save('forELSSTGroup\\\\GER_ELSST_targetfile2.xlsx') \n"
   ]
  },
  {
   "cell_type": "code",
   "execution_count": 15,
   "metadata": {},
   "outputs": [
    {
     "name": "stdout",
     "output_type": "stream",
     "text": [
      "leistungsteste\n",
      "leistungsteste\n",
      "leistungsteste\n",
      "leistungsteste\n",
      "leistungstests\n",
      "leistungstests\n",
      "leistungstests\n",
      "leistungstests\n",
      "leistungsfeststellungsteste\n",
      "leistungsstands\n",
      "erfolgsmessgrösse.\n",
      "rundwanderungen.\n",
      "waehlen\n",
      "waehlen\n",
      "wahlverhalten\n",
      "wahlverhalten\n",
      "augenoptik\n",
      "kosmetikdienste\n"
     ]
    }
   ],
   "source": [
    "import openpyxl\n",
    "import re\n",
    "import nltk\n",
    "from HanTa import HanoverTagger as ht\n",
    "\n",
    "tagger = ht.HanoverTagger('morphmodel_ger.pgz')\n",
    "terme = []\n",
    "nomen = []\n",
    "\n",
    "wb = openpyxl.load_workbook(\"forELSSTGroup\\\\GER_ELSST_targetfile2.xlsx\")\n",
    "ws = wb[\"Sheet 1\"]\n",
    "\n",
    "for r in range(1,ws.max_row+1):            \n",
    "    terms = ws.cell(r,4).value\n",
    "    for i in terms.split(' '):\n",
    "        terme.append(i)\n",
    "\n",
    "for item in terme:\n",
    "    tokens = nltk.word_tokenize(item, language='german')\n",
    "    tags = tagger.tag_sent(tokens)\n",
    "    #print(tags)\n",
    "\n",
    "    for i in tags:\n",
    "        if 'NN' in i:\n",
    "            nomen.append(i[0])\n",
    "\n",
    "for wort in nomen:\n",
    "    for r in range(1,ws.max_row+1):            \n",
    "        terms = ws.cell(r,4).value\n",
    "        for i in terms.split(' '):\n",
    "            if i[:-1] == wort.lower():\n",
    "                print(i)\n",
    "                ws.cell(r,4).value = re.sub(i, i.capitalize(),ws.cell(r,4).value)\n",
    "            elif i == wort.lower():\n",
    "                print(i)\n",
    "                ws.cell(r,4).value = re.sub(i, i.capitalize(),ws.cell(r,4).value)\n",
    "wb.save('forELSSTGroup\\\\GER_ELSST_targetfile3.xlsx')\n"
   ]
  }
 ],
 "metadata": {
  "kernelspec": {
   "display_name": "Python 3",
   "language": "python",
   "name": "python3"
  },
  "language_info": {
   "codemirror_mode": {
    "name": "ipython",
    "version": 3
   },
   "file_extension": ".py",
   "mimetype": "text/x-python",
   "name": "python",
   "nbconvert_exporter": "python",
   "pygments_lexer": "ipython3",
   "version": "3.12.0"
  },
  "orig_nbformat": 4,
  "vscode": {
   "interpreter": {
    "hash": "c3aa833677d0236431a89a9ceac21c395b83c03e93adb8e7b1696e717442601c"
   }
  }
 },
 "nbformat": 4,
 "nbformat_minor": 2
}
